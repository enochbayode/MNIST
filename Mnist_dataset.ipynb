{
  "nbformat": 4,
  "nbformat_minor": 0,
  "metadata": {
    "colab": {
      "provenance": [],
      "authorship_tag": "ABX9TyM27qv2GuSL+Ku+LpzYVeTG",
      "include_colab_link": true
    },
    "kernelspec": {
      "name": "python3",
      "display_name": "Python 3"
    },
    "language_info": {
      "name": "python"
    }
  },
  "cells": [
    {
      "cell_type": "markdown",
      "metadata": {
        "id": "view-in-github",
        "colab_type": "text"
      },
      "source": [
        "<a href=\"https://colab.research.google.com/github/enochbayode/MNIST/blob/main/Mnist_dataset.ipynb\" target=\"_parent\"><img src=\"https://colab.research.google.com/assets/colab-badge.svg\" alt=\"Open In Colab\"/></a>"
      ]
    },
    {
      "cell_type": "markdown",
      "source": [
        "Importing the relevant libraries\n"
      ],
      "metadata": {
        "id": "etkcuXi1CcFV"
      }
    },
    {
      "cell_type": "code",
      "execution_count": 1,
      "metadata": {
        "id": "F6yRwL__RgxM"
      },
      "outputs": [],
      "source": [
        "import tensorflow as tf"
      ]
    },
    {
      "cell_type": "code",
      "source": [
        "import numpy as np\n",
        "import tensorflow_datasets as tfds"
      ],
      "metadata": {
        "id": "vgXbpWAGo0-h"
      },
      "execution_count": 2,
      "outputs": []
    },
    {
      "cell_type": "markdown",
      "source": [
        "Load the MNIST dataset"
      ],
      "metadata": {
        "id": "8RD8cTmzCltF"
      }
    },
    {
      "cell_type": "code",
      "source": [
        "from tensorflow.keras.datasets import mnist\n",
        "from tensorflow.keras.utils import to_categorical\n",
        "from tensorflow.keras.callbacks import EarlyStopping\n",
        "import tensorflow as tf\n",
        "\n",
        "input_size = 784\n",
        "output_size = 10\n",
        "hidden_layer_size = 100\n",
        "max_epochs = 15\n",
        "\n",
        "# Load MNIST dataset\n",
        "(x_train, y_train), (x_test, y_test) = mnist.load_data()\n",
        "\n",
        "# Normalize pixel values to be between 0 and 1\n",
        "x_train, x_test = x_train / 255.0, x_test / 255.0\n",
        "\n",
        "# Convert class vectors to binary class matrices\n",
        "y_train = to_categorical(y_train, num_classes=output_size)\n",
        "y_test = to_categorical(y_test, num_classes=output_size)\n",
        "\n",
        "# Reshape input data to match the expected input shape\n",
        "x_train = x_train.reshape(-1, input_size)\n",
        "x_test = x_test.reshape(-1, input_size)\n",
        "\n",
        "# Model definition\n",
        "model = tf.keras.models.Sequential([\n",
        "    tf.keras.layers.Dense(hidden_layer_size, activation='relu', input_shape=(input_size,)),\n",
        "    tf.keras.layers.Dense(hidden_layer_size, activation='relu'),\n",
        "    tf.keras.layers.Dense(output_size, activation='softmax')\n",
        "])\n",
        "\n",
        "# Compile the model\n",
        "model.compile(optimizer='adam',\n",
        "              loss='categorical_crossentropy',\n",
        "              metrics=['accuracy'])\n",
        "\n",
        "# Define the EarlyStopping callback\n",
        "# The patience can be adjusted\n",
        "early_stop = EarlyStopping(monitor='val_loss', patience=0, restore_best_weights=True)\n",
        "\n",
        "# Train the model with early stopping\n",
        "history = model.fit(x_train, y_train,\n",
        "                    epochs=max_epochs,\n",
        "                    validation_data=(x_test, y_test),\n",
        "                    callbacks=[early_stop],\n",
        "                    verbose=1)\n",
        "\n",
        "# Print validation loss and accuracy in numeric form\n",
        "for epoch in range(len(history.history['val_loss'])):\n",
        "    val_loss = history.history['val_loss'][epoch]\n",
        "    val_acc = history.history['val_accuracy'][epoch] * 100  # Convert accuracy to percentage\n",
        "    print(f\"Epoch {epoch+1}: Validation Loss = {val_loss}, Validation Accuracy = {val_acc:.2f}%\")"
      ],
      "metadata": {
        "colab": {
          "base_uri": "https://localhost:8080/"
        },
        "id": "V3-F1w-EpJBH",
        "outputId": "17577666-069a-449b-aa09-7a6a4f77ab6f"
      },
      "execution_count": 3,
      "outputs": [
        {
          "output_type": "stream",
          "name": "stdout",
          "text": [
            "Downloading data from https://storage.googleapis.com/tensorflow/tf-keras-datasets/mnist.npz\n",
            "11490434/11490434 [==============================] - 0s 0us/step\n",
            "Epoch 1/15\n",
            "1875/1875 [==============================] - 8s 4ms/step - loss: 0.2445 - accuracy: 0.9283 - val_loss: 0.1221 - val_accuracy: 0.9622\n",
            "Epoch 2/15\n",
            "1875/1875 [==============================] - 8s 4ms/step - loss: 0.1029 - accuracy: 0.9685 - val_loss: 0.0947 - val_accuracy: 0.9715\n",
            "Epoch 3/15\n",
            "1875/1875 [==============================] - 6s 3ms/step - loss: 0.0732 - accuracy: 0.9774 - val_loss: 0.1005 - val_accuracy: 0.9701\n",
            "Epoch 1: Validation Loss = 0.12211385369300842, Validation Accuracy = 96.22%\n",
            "Epoch 2: Validation Loss = 0.09465625137090683, Validation Accuracy = 97.15%\n",
            "Epoch 3: Validation Loss = 0.1005326509475708, Validation Accuracy = 97.01%\n"
          ]
        }
      ]
    },
    {
      "cell_type": "markdown",
      "source": [
        "Verifying the model with the test data set"
      ],
      "metadata": {
        "id": "qtfQ83XvivVb"
      }
    },
    {
      "cell_type": "code",
      "source": [
        "# Evaluate the model on the test set\n",
        "test_loss, test_acc = model.evaluate(x_test, y_test, verbose=2)\n",
        "test_acc_percentage = test_acc * 100\n",
        "print('\\nTest accuracy:', test_acc_percentage, '%')"
      ],
      "metadata": {
        "id": "cPAGnpfcpI85",
        "colab": {
          "base_uri": "https://localhost:8080/"
        },
        "outputId": "068ef6c0-6158-4da2-eda6-2c930990691d"
      },
      "execution_count": 4,
      "outputs": [
        {
          "output_type": "stream",
          "name": "stdout",
          "text": [
            "313/313 - 0s - loss: 0.0947 - accuracy: 0.9715 - 476ms/epoch - 2ms/step\n",
            "\n",
            "Test accuracy: 97.14999794960022 %\n"
          ]
        }
      ]
    },
    {
      "cell_type": "code",
      "source": [],
      "metadata": {
        "id": "xgEfk8tjHWYZ"
      },
      "execution_count": null,
      "outputs": []
    }
  ]
}